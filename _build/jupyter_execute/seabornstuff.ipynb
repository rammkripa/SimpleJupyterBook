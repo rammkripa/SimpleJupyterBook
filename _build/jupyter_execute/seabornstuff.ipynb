{
 "cells": [
  {
   "cell_type": "markdown",
   "id": "658f1b78-c127-428c-8f1f-a7bfe38236cb",
   "metadata": {},
   "source": [
    "# Seaborn Notebook\n",
    "\n",
    "I am using seaborn because it is a package that is not included in requirements.txt"
   ]
  },
  {
   "cell_type": "code",
   "execution_count": 1,
   "id": "b7dcacbf-8498-414e-962b-61998d166074",
   "metadata": {},
   "outputs": [],
   "source": [
    "import seaborn as sns"
   ]
  },
  {
   "cell_type": "code",
   "execution_count": 2,
   "id": "b3358998-02fe-4660-b676-fefe794a7ece",
   "metadata": {},
   "outputs": [],
   "source": [
    "iris = sns.load_dataset(\"iris\")"
   ]
  },
  {
   "cell_type": "code",
   "execution_count": 3,
   "id": "ec294acf-fd39-4b47-8f11-c52ae60ec0de",
   "metadata": {},
   "outputs": [
    {
     "data": {
      "text/plain": [
       "<seaborn.axisgrid.FacetGrid at 0x7f0c0f3f29d0>"
      ]
     },
     "execution_count": 3,
     "metadata": {},
     "output_type": "execute_result"
    },
    {
     "data": {
      "image/png": "[encoded data removed]",
      "text/plain": [
       "<Figure size 360x360 with 1 Axes>"
      ]
     },
     "metadata": {
      "filenames": {
       "image/png": "/home/jovyan/random/mysimplebook/_build/jupyter_execute/seabornstuff_3_1.png"
      },
      "needs_background": "light"
     },
     "output_type": "display_data"
    }
   ],
   "source": [
    "sns.displot(data = iris, x = \"sepal_length\")"
   ]
  },
  {
   "cell_type": "markdown",
   "id": "d612ad2c-0277-44fe-be5e-7d6810a46316",
   "metadata": {},
   "source": [
    "### Seaborn is cool, as well as the iris dataset\n",
    " \n",
    "That is all folks."
   ]
  },
  {
   "cell_type": "code",
   "execution_count": null,
   "id": "1fbd35ec-a987-4be2-a316-483961a01ba6",
   "metadata": {},
   "outputs": [],
   "source": []
  }
 ],
 "metadata": {
  "kernelspec": {
   "display_name": "Python 3 (ipykernel)",
   "language": "python",
   "name": "python3"
  },
  "language_info": {
   "codemirror_mode": {
    "name": "ipython",
    "version": 3
   },
   "file_extension": ".py",
   "mimetype": "text/x-python",
   "name": "python",
   "nbconvert_exporter": "python",
   "pygments_lexer": "ipython3",
   "version": "3.9.9"
  }
 },
 "nbformat": 4,
 "nbformat_minor": 5
}